{
 "cells": [
  {
   "cell_type": "code",
   "execution_count": 1,
   "id": "0182f7e3",
   "metadata": {},
   "outputs": [],
   "source": [
    "import os,shutil"
   ]
  },
  {
   "cell_type": "code",
   "execution_count": 2,
   "id": "bc755c4c",
   "metadata": {},
   "outputs": [],
   "source": [
    "path=r'C:/Users/Bhargav Lakkireddy/Desktop/BAIS/'"
   ]
  },
  {
   "cell_type": "code",
   "execution_count": 3,
   "id": "aba69b41",
   "metadata": {},
   "outputs": [
    {
     "data": {
      "text/plain": [
       "['.ipynb_checkpoints',\n",
       " 'adbms',\n",
       " 'ASAD',\n",
       " 'bcdr',\n",
       " 'DIS',\n",
       " 'DM',\n",
       " 'DSP',\n",
       " 'DV',\n",
       " 'DW',\n",
       " 'ERP',\n",
       " 'genre.xls',\n",
       " 'Insurance23-24',\n",
       " 'Insurance_Surya_23-24',\n",
       " 'msc_artist.xls',\n",
       " 'part_soundtrack.xls',\n",
       " 'pdffiles',\n",
       " 'R-qmb',\n",
       " 'recording_company.xls',\n",
       " 'Resume_SRI.docx',\n",
       " 'soundtrack.xls',\n",
       " 'Untitled.ipynb',\n",
       " 'wordfiles']"
      ]
     },
     "execution_count": 3,
     "metadata": {},
     "output_type": "execute_result"
    }
   ],
   "source": [
    "os.listdir(path)"
   ]
  },
  {
   "cell_type": "code",
   "execution_count": 4,
   "id": "24540fe3",
   "metadata": {},
   "outputs": [],
   "source": [
    "file_name=os.listdir(path)"
   ]
  },
  {
   "cell_type": "code",
   "execution_count": 5,
   "id": "ee27385a",
   "metadata": {},
   "outputs": [],
   "source": [
    "folder_names=['wordfiles','pdffiles','excelfile']\n",
    "for loop in range(0,2):\n",
    "    if not os.path.exists(path+folder_names[loop]):\n",
    "        print(path+folder_names[loop])\n",
    "        os.makedirs(path+folder_names[loop])"
   ]
  },
  {
   "cell_type": "code",
   "execution_count": 6,
   "id": "8e252ae7",
   "metadata": {},
   "outputs": [
    {
     "name": "stdout",
     "output_type": "stream",
     "text": [
      "there are files in this path that were not moved\n",
      "there are files in this path that were not moved\n",
      "there are files in this path that were not moved\n",
      "there are files in this path that were not moved\n",
      "there are files in this path that were not moved\n",
      "there are files in this path that were not moved\n",
      "there are files in this path that were not moved\n",
      "there are files in this path that were not moved\n",
      "there are files in this path that were not moved\n",
      "there are files in this path that were not moved\n",
      "there are files in this path that were not moved\n",
      "there are files in this path that were not moved\n",
      "there are files in this path that were not moved\n",
      "there are files in this path that were not moved\n",
      "there are files in this path that were not moved\n",
      "there are files in this path that were not moved\n",
      "there are files in this path that were not moved\n",
      "there are files in this path that were not moved\n",
      "there are files in this path that were not moved\n",
      "there are files in this path that were not moved\n",
      "there are files in this path that were not moved\n",
      "there are files in this path that were not moved\n"
     ]
    }
   ],
   "source": [
    "for file in file_name:\n",
    "    if '.docx' in file and not os.path.exists(path+\"wordfiles/\"+file):\n",
    "        shutil.move(path+file,path+'wordfiles/'+file)\n",
    "        \n",
    "    elif '.pdf' in file and not os.path.exists(path+\"pdffiles/\"+file):\n",
    "        shutil.move(path+file,path+'pdffiles/'+file)\n",
    "        \n",
    "    elif '.csv' in file and not os.path.exists(path+\"excelfile/\"+file):\n",
    "        shutil.move(path+file,path+'excelfile/'+file)\n",
    "    else:\n",
    "        print('there are files in this path that were not moved');"
   ]
  },
  {
   "cell_type": "code",
   "execution_count": null,
   "id": "4f177af1",
   "metadata": {},
   "outputs": [],
   "source": []
  }
 ],
 "metadata": {
  "kernelspec": {
   "display_name": "Python 3 (ipykernel)",
   "language": "python",
   "name": "python3"
  },
  "language_info": {
   "codemirror_mode": {
    "name": "ipython",
    "version": 3
   },
   "file_extension": ".py",
   "mimetype": "text/x-python",
   "name": "python",
   "nbconvert_exporter": "python",
   "pygments_lexer": "ipython3",
   "version": "3.9.13"
  }
 },
 "nbformat": 4,
 "nbformat_minor": 5
}
